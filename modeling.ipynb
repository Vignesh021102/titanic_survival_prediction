{
 "cells": [
  {
   "cell_type": "code",
   "execution_count": 1,
   "id": "3561fa66-cb87-4e40-9a44-4f71d154f5bc",
   "metadata": {},
   "outputs": [],
   "source": [
    "import pandas as pd\n",
    "import numpy as np\n",
    "import matplotlib.pyplot as plt\n",
    "import seaborn as sns\n",
    "sns.set()"
   ]
  },
  {
   "cell_type": "code",
   "execution_count": 2,
   "id": "2caa860f-4332-4ceb-9a22-68596f1840ad",
   "metadata": {},
   "outputs": [],
   "source": [
    "import tensorflow as tf"
   ]
  },
  {
   "cell_type": "code",
   "execution_count": 3,
   "id": "c9f18963-bbdc-4ad3-8f64-be7af24580fa",
   "metadata": {},
   "outputs": [],
   "source": [
    "from sklearn.model_selection import train_test_split"
   ]
  },
  {
   "cell_type": "code",
   "execution_count": 4,
   "id": "0120a7fa-a250-4620-a748-716864299138",
   "metadata": {},
   "outputs": [],
   "source": [
    "random_state = 20"
   ]
  },
  {
   "cell_type": "code",
   "execution_count": 5,
   "id": "8b7a0b00-a8dc-49b2-9f1d-5622ce9bd27e",
   "metadata": {},
   "outputs": [],
   "source": [
    "df = pd.read_csv('preprocessed_df.csv')\n",
    "df = df.iloc[:,1:]"
   ]
  },
  {
   "cell_type": "code",
   "execution_count": 6,
   "id": "7c33cd5c-3220-4003-b7a5-418f0c91e49a",
   "metadata": {},
   "outputs": [],
   "source": [
    "ydf = df['Survived']\n",
    "xdf = df.drop(['Survived'],axis=1)\n",
    "xtrain,xvalidation,ytrain,yvalidation = train_test_split(xdf,ydf,test_size = 0.2,random_state = random_state,shuffle = True)"
   ]
  },
  {
   "cell_type": "code",
   "execution_count": 7,
   "id": "ff6f969a-47e2-429b-915f-bf3ecf954825",
   "metadata": {},
   "outputs": [],
   "source": [
    "Normalizer = tf.keras.layers.Normalization()\n",
    "Normalizer.adapt(xdf)"
   ]
  },
  {
   "cell_type": "code",
   "execution_count": 8,
   "id": "3ade2f33-74cc-49fe-a2ee-028e34b9c719",
   "metadata": {},
   "outputs": [],
   "source": [
    "summary = pd.DataFrame(xdf.keys().values.reshape(-1,1),columns=['variables'])\n",
    "summary = pd.concat([summary,pd.DataFrame(Normalizer.mean.numpy().reshape(-1,1),columns=['mean'])],axis=1)"
   ]
  },
  {
   "cell_type": "code",
   "execution_count": 9,
   "id": "04f53b4f-06e1-44ad-8b1b-6a2bd1d6e832",
   "metadata": {},
   "outputs": [
    {
     "data": {
      "text/plain": [
       "<keras.callbacks.History at 0x17af9c22290>"
      ]
     },
     "execution_count": 9,
     "metadata": {},
     "output_type": "execute_result"
    }
   ],
   "source": [
    "hidden_layer_size = 50\n",
    "output_layer_size = 1\n",
    "batch_size = 50\n",
    "num_epochs= 100\n",
    "early_stopping = tf.keras.callbacks.EarlyStopping(patience=2)\n",
    "\n",
    "\n",
    "model = tf.keras.Sequential([\n",
    "    Normalizer,\n",
    "    tf.keras.layers.Dense(hidden_layer_size,activation = 'relu'),\n",
    "    tf.keras.layers.Dense(hidden_layer_size,activation = 'relu'),\n",
    "    tf.keras.layers.Dense(output_layer_size,activation = 'sigmoid')\n",
    "])\n",
    "model.compile(optimizer = 'adam',loss='LogCosh',metrics=['accuracy'])\n",
    "model.fit(x = xtrain,\n",
    "          y = ytrain,\n",
    "          validation_data=[xvalidation,yvalidation],\n",
    "          callbacks = [early_stopping],\n",
    "          batch_size= batch_size,\n",
    "          epochs=num_epochs,\n",
    "          verbose=False)"
   ]
  },
  {
   "cell_type": "code",
   "execution_count": 11,
   "id": "bc4e1d2f-b89b-4398-943e-4d552ec15a13",
   "metadata": {},
   "outputs": [
    {
     "name": "stdout",
     "output_type": "stream",
     "text": [
      "Model: \"sequential\"\n",
      "_________________________________________________________________\n",
      " Layer (type)                Output Shape              Param #   \n",
      "=================================================================\n",
      " normalization (Normalizatio  (None, 18)               37        \n",
      " n)                                                              \n",
      "                                                                 \n",
      " dense (Dense)               (None, 50)                950       \n",
      "                                                                 \n",
      " dense_1 (Dense)             (None, 50)                2550      \n",
      "                                                                 \n",
      " dense_2 (Dense)             (None, 1)                 51        \n",
      "                                                                 \n",
      "=================================================================\n",
      "Total params: 3,588\n",
      "Trainable params: 3,551\n",
      "Non-trainable params: 37\n",
      "_________________________________________________________________\n"
     ]
    }
   ],
   "source": [
    "model.summary()"
   ]
  },
  {
   "cell_type": "code",
   "execution_count": 12,
   "id": "9d73f158-7347-4f00-a5c6-097b8da7bf69",
   "metadata": {},
   "outputs": [],
   "source": [
    "xtest = pd.read_csv('preprocessed_testdf.csv')"
   ]
  },
  {
   "cell_type": "code",
   "execution_count": 13,
   "id": "c9c91078-b8c5-4e32-9282-57b177c65c6a",
   "metadata": {},
   "outputs": [
    {
     "name": "stdout",
     "output_type": "stream",
     "text": [
      "14/14 [==============================] - 0s 1ms/step\n"
     ]
    }
   ],
   "source": [
    "yhat = model.predict(xtest.iloc[:,1:])"
   ]
  },
  {
   "cell_type": "code",
   "execution_count": 14,
   "id": "99a758b3-3fe5-48fc-9694-45b443e64561",
   "metadata": {},
   "outputs": [],
   "source": [
    "weight = np.dot(np.dot(model.weights[3],model.weights[5]),model.weights[7])"
   ]
  },
  {
   "cell_type": "code",
   "execution_count": 15,
   "id": "b3835601-c260-44f9-b791-2cbcaf390ade",
   "metadata": {},
   "outputs": [],
   "source": [
    "summary = pd.concat([summary,pd.DataFrame(weight,columns=['coeffecients'])],axis=1)\n",
    "summary = pd.concat([summary,pd.DataFrame(np.exp(weight),columns=['odds_ratio'])],axis=1)"
   ]
  },
  {
   "cell_type": "code",
   "execution_count": 16,
   "id": "b88ece1c-7b76-4868-864a-f8f6a56aa55b",
   "metadata": {},
   "outputs": [],
   "source": [
    "summary.to_csv('variables_summary.csv')"
   ]
  },
  {
   "cell_type": "code",
   "execution_count": 26,
   "id": "77abc736-02a5-41b0-bf55-60e629872f78",
   "metadata": {},
   "outputs": [],
   "source": [
    "prediction = pd.concat([xtest.iloc[:,0].copy(),pd.DataFrame(yhat,columns=['Survived'])],axis=1)\n",
    "prediction.columns = ['passengerId','Survived']"
   ]
  },
  {
   "cell_type": "code",
   "execution_count": 34,
   "id": "44933433-4e51-4165-9db1-fe31bb0109d1",
   "metadata": {},
   "outputs": [],
   "source": [
    "prediction['Survived'] = prediction['Survived'].apply(lambda x: 1 if x>0.5 else 0)"
   ]
  },
  {
   "cell_type": "code",
   "execution_count": 37,
   "id": "c1d80b5b-218d-4da3-ae57-76fb02b50ef2",
   "metadata": {},
   "outputs": [],
   "source": [
    "prediction.to_csv('prediction.csv')"
   ]
  },
  {
   "cell_type": "code",
   "execution_count": null,
   "id": "b9f5e8e4-0abb-4f69-b874-6f38737d5332",
   "metadata": {},
   "outputs": [],
   "source": []
  }
 ],
 "metadata": {
  "kernelspec": {
   "display_name": "Python 3 (ipykernel)",
   "language": "python",
   "name": "python3"
  },
  "language_info": {
   "codemirror_mode": {
    "name": "ipython",
    "version": 3
   },
   "file_extension": ".py",
   "mimetype": "text/x-python",
   "name": "python",
   "nbconvert_exporter": "python",
   "pygments_lexer": "ipython3",
   "version": "3.10.4"
  }
 },
 "nbformat": 4,
 "nbformat_minor": 5
}
